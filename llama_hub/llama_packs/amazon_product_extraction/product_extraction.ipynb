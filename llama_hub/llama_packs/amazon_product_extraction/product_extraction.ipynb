{
 "cells": [
  {
   "cell_type": "markdown",
   "id": "8386da29-a09e-497e-a33d-77c4c5e02d70",
   "metadata": {},
   "source": [
    "# Amazon Product Extraction Pack\n",
    "\n",
    "This LlamaPack provides an example of our Amazon Product Extraction pack."
   ]
  },
  {
   "cell_type": "code",
   "execution_count": 1,
   "id": "a5a2d9f1-bc7f-40b6-a91a-e28e0d27b176",
   "metadata": {},
   "outputs": [
    {
     "ename": "ValueError",
     "evalue": "Loader class name not found in library",
     "output_type": "error",
     "traceback": [
      "\u001b[0;31m---------------------------------------------------------------------------\u001b[0m",
      "\u001b[0;31mValueError\u001b[0m                                Traceback (most recent call last)",
      "Cell \u001b[0;32mIn[1], line 3\u001b[0m\n\u001b[1;32m      1\u001b[0m \u001b[38;5;28;01mfrom\u001b[39;00m \u001b[38;5;21;01mllama_index\u001b[39;00m\u001b[38;5;21;01m.\u001b[39;00m\u001b[38;5;21;01mllama_pack\u001b[39;00m \u001b[38;5;28;01mimport\u001b[39;00m download_llama_pack\n\u001b[0;32m----> 3\u001b[0m AmazonProductExtractionPack \u001b[38;5;241m=\u001b[39m \u001b[43mdownload_llama_pack\u001b[49m\u001b[43m(\u001b[49m\n\u001b[1;32m      4\u001b[0m \u001b[43m    \u001b[49m\u001b[38;5;124;43m\"\u001b[39;49m\u001b[38;5;124;43mAmazonProductExtractionPack\u001b[39;49m\u001b[38;5;124;43m\"\u001b[39;49m\u001b[43m,\u001b[49m\n\u001b[1;32m      5\u001b[0m \u001b[43m    \u001b[49m\u001b[38;5;124;43m\"\u001b[39;49m\u001b[38;5;124;43m./amazon_product_extraction_pack\u001b[39;49m\u001b[38;5;124;43m\"\u001b[39;49m\u001b[43m,\u001b[49m\n\u001b[1;32m      6\u001b[0m \u001b[43m    \u001b[49m\u001b[38;5;66;43;03m# leave the below commented out (was for testing purposes)\u001b[39;49;00m\n\u001b[1;32m      7\u001b[0m \u001b[43m    \u001b[49m\u001b[43mllama_hub_url\u001b[49m\u001b[38;5;241;43m=\u001b[39;49m\u001b[38;5;124;43m\"\u001b[39;49m\u001b[38;5;124;43mhttps://raw.githubusercontent.com/run-llama/llama-hub/jerry/add_amazon_product_extraction/llama_hub\u001b[39;49m\u001b[38;5;124;43m\"\u001b[39;49m\n\u001b[1;32m      8\u001b[0m \u001b[43m)\u001b[49m\n",
      "File \u001b[0;32m~/Programming/llama-hub/.venv/lib/python3.10/site-packages/llama_index/llama_pack/download.py:24\u001b[0m, in \u001b[0;36mdownload_llama_pack\u001b[0;34m(llama_pack_class, download_dir, llama_hub_url)\u001b[0m\n\u001b[1;32m      7\u001b[0m \u001b[38;5;28;01mdef\u001b[39;00m \u001b[38;5;21mdownload_llama_pack\u001b[39m(\n\u001b[1;32m      8\u001b[0m     llama_pack_class: \u001b[38;5;28mstr\u001b[39m,\n\u001b[1;32m      9\u001b[0m     download_dir: \u001b[38;5;28mstr\u001b[39m,\n\u001b[1;32m     10\u001b[0m     llama_hub_url: \u001b[38;5;28mstr\u001b[39m \u001b[38;5;241m=\u001b[39m LLAMA_HUB_URL,\n\u001b[1;32m     11\u001b[0m ) \u001b[38;5;241m-\u001b[39m\u001b[38;5;241m>\u001b[39m Type[BaseLlamaPack]:\n\u001b[1;32m     12\u001b[0m \u001b[38;5;250m    \u001b[39m\u001b[38;5;124;03m\"\"\"Download a single LlamaPack from Llama Hub.\u001b[39;00m\n\u001b[1;32m     13\u001b[0m \n\u001b[1;32m     14\u001b[0m \u001b[38;5;124;03m    Args:\u001b[39;00m\n\u001b[0;32m   (...)\u001b[0m\n\u001b[1;32m     22\u001b[0m \u001b[38;5;124;03m        A Loader.\u001b[39;00m\n\u001b[1;32m     23\u001b[0m \u001b[38;5;124;03m    \"\"\"\u001b[39;00m\n\u001b[0;32m---> 24\u001b[0m     pack_cls \u001b[38;5;241m=\u001b[39m \u001b[43mdownload_llama_module\u001b[49m\u001b[43m(\u001b[49m\n\u001b[1;32m     25\u001b[0m \u001b[43m        \u001b[49m\u001b[43mllama_pack_class\u001b[49m\u001b[43m,\u001b[49m\n\u001b[1;32m     26\u001b[0m \u001b[43m        \u001b[49m\u001b[43mllama_hub_url\u001b[49m\u001b[38;5;241;43m=\u001b[39;49m\u001b[43mllama_hub_url\u001b[49m\u001b[43m,\u001b[49m\n\u001b[1;32m     27\u001b[0m \u001b[43m        \u001b[49m\u001b[43mrefresh_cache\u001b[49m\u001b[38;5;241;43m=\u001b[39;49m\u001b[38;5;28;43;01mTrue\u001b[39;49;00m\u001b[43m,\u001b[49m\n\u001b[1;32m     28\u001b[0m \u001b[43m        \u001b[49m\u001b[43mcustom_path\u001b[49m\u001b[38;5;241;43m=\u001b[39;49m\u001b[43mdownload_dir\u001b[49m\u001b[43m,\u001b[49m\n\u001b[1;32m     29\u001b[0m \u001b[43m        \u001b[49m\u001b[43mlibrary_path\u001b[49m\u001b[38;5;241;43m=\u001b[39;49m\u001b[38;5;124;43m\"\u001b[39;49m\u001b[38;5;124;43mllama_packs/library.json\u001b[39;49m\u001b[38;5;124;43m\"\u001b[39;49m\u001b[43m,\u001b[49m\n\u001b[1;32m     30\u001b[0m \u001b[43m        \u001b[49m\u001b[43mdisable_library_cache\u001b[49m\u001b[38;5;241;43m=\u001b[39;49m\u001b[38;5;28;43;01mTrue\u001b[39;49;00m\u001b[43m,\u001b[49m\n\u001b[1;32m     31\u001b[0m \u001b[43m        \u001b[49m\u001b[43moverride_path\u001b[49m\u001b[38;5;241;43m=\u001b[39;49m\u001b[38;5;28;43;01mTrue\u001b[39;49;00m\u001b[43m,\u001b[49m\n\u001b[1;32m     32\u001b[0m \u001b[43m    \u001b[49m\u001b[43m)\u001b[49m\n\u001b[1;32m     33\u001b[0m     \u001b[38;5;28;01mif\u001b[39;00m \u001b[38;5;129;01mnot\u001b[39;00m \u001b[38;5;28missubclass\u001b[39m(pack_cls, BaseLlamaPack):\n\u001b[1;32m     34\u001b[0m         \u001b[38;5;28;01mraise\u001b[39;00m \u001b[38;5;167;01mValueError\u001b[39;00m(\u001b[38;5;124mf\u001b[39m\u001b[38;5;124m\"\u001b[39m\u001b[38;5;124mTool class \u001b[39m\u001b[38;5;132;01m{\u001b[39;00mpack_cls\u001b[38;5;132;01m}\u001b[39;00m\u001b[38;5;124m must be a subclass of BaseToolSpec.\u001b[39m\u001b[38;5;124m\"\u001b[39m)\n",
      "File \u001b[0;32m~/Programming/llama-hub/.venv/lib/python3.10/site-packages/llama_index/download/download_utils.py:274\u001b[0m, in \u001b[0;36mdownload_llama_module\u001b[0;34m(module_class, llama_hub_url, refresh_cache, custom_dir, custom_path, library_path, base_file_name, use_gpt_index_import, disable_library_cache, override_path)\u001b[0m\n\u001b[1;32m    271\u001b[0m dirpath \u001b[38;5;241m=\u001b[39m initialize_directory(custom_path\u001b[38;5;241m=\u001b[39mcustom_path, custom_dir\u001b[38;5;241m=\u001b[39mcustom_dir)\n\u001b[1;32m    273\u001b[0m \u001b[38;5;66;03m# fetch info from library.json file\u001b[39;00m\n\u001b[0;32m--> 274\u001b[0m module_info \u001b[38;5;241m=\u001b[39m \u001b[43mget_module_info\u001b[49m\u001b[43m(\u001b[49m\n\u001b[1;32m    275\u001b[0m \u001b[43m    \u001b[49m\u001b[43mlocal_dir_path\u001b[49m\u001b[38;5;241;43m=\u001b[39;49m\u001b[43mdirpath\u001b[49m\u001b[43m,\u001b[49m\n\u001b[1;32m    276\u001b[0m \u001b[43m    \u001b[49m\u001b[43mremote_dir_path\u001b[49m\u001b[38;5;241;43m=\u001b[39;49m\u001b[43mllama_hub_url\u001b[49m\u001b[43m,\u001b[49m\n\u001b[1;32m    277\u001b[0m \u001b[43m    \u001b[49m\u001b[43mmodule_class\u001b[49m\u001b[38;5;241;43m=\u001b[39;49m\u001b[43mmodule_class\u001b[49m\u001b[43m,\u001b[49m\n\u001b[1;32m    278\u001b[0m \u001b[43m    \u001b[49m\u001b[43mrefresh_cache\u001b[49m\u001b[38;5;241;43m=\u001b[39;49m\u001b[43mrefresh_cache\u001b[49m\u001b[43m,\u001b[49m\n\u001b[1;32m    279\u001b[0m \u001b[43m    \u001b[49m\u001b[43mlibrary_path\u001b[49m\u001b[38;5;241;43m=\u001b[39;49m\u001b[43mlibrary_path\u001b[49m\u001b[43m,\u001b[49m\n\u001b[1;32m    280\u001b[0m \u001b[43m    \u001b[49m\u001b[43mdisable_library_cache\u001b[49m\u001b[38;5;241;43m=\u001b[39;49m\u001b[43mdisable_library_cache\u001b[49m\u001b[43m,\u001b[49m\n\u001b[1;32m    281\u001b[0m \u001b[43m\u001b[49m\u001b[43m)\u001b[49m\n\u001b[1;32m    282\u001b[0m module_id \u001b[38;5;241m=\u001b[39m module_info[\u001b[38;5;124m\"\u001b[39m\u001b[38;5;124mmodule_id\u001b[39m\u001b[38;5;124m\"\u001b[39m]\n\u001b[1;32m    283\u001b[0m extra_files \u001b[38;5;241m=\u001b[39m module_info[\u001b[38;5;124m\"\u001b[39m\u001b[38;5;124mextra_files\u001b[39m\u001b[38;5;124m\"\u001b[39m]\n",
      "File \u001b[0;32m~/Programming/llama-hub/.venv/lib/python3.10/site-packages/llama_index/download/download_utils.py:134\u001b[0m, in \u001b[0;36mget_module_info\u001b[0;34m(local_dir_path, remote_dir_path, module_class, refresh_cache, library_path, disable_library_cache)\u001b[0m\n\u001b[1;32m    132\u001b[0m library \u001b[38;5;241m=\u001b[39m json\u001b[38;5;241m.\u001b[39mloads(library_raw_content)\n\u001b[1;32m    133\u001b[0m \u001b[38;5;28;01mif\u001b[39;00m module_class \u001b[38;5;129;01mnot\u001b[39;00m \u001b[38;5;129;01min\u001b[39;00m library:\n\u001b[0;32m--> 134\u001b[0m     \u001b[38;5;28;01mraise\u001b[39;00m \u001b[38;5;167;01mValueError\u001b[39;00m(\u001b[38;5;124m\"\u001b[39m\u001b[38;5;124mLoader class name not found in library\u001b[39m\u001b[38;5;124m\"\u001b[39m)\n\u001b[1;32m    136\u001b[0m module_id \u001b[38;5;241m=\u001b[39m library[module_class][\u001b[38;5;124m\"\u001b[39m\u001b[38;5;124mid\u001b[39m\u001b[38;5;124m\"\u001b[39m]\n\u001b[1;32m    137\u001b[0m extra_files \u001b[38;5;241m=\u001b[39m library[module_class]\u001b[38;5;241m.\u001b[39mget(\u001b[38;5;124m\"\u001b[39m\u001b[38;5;124mextra_files\u001b[39m\u001b[38;5;124m\"\u001b[39m, [])\n",
      "\u001b[0;31mValueError\u001b[0m: Loader class name not found in library"
     ]
    }
   ],
   "source": [
    "from llama_index.llama_pack import download_llama_pack\n",
    "\n",
    "AmazonProductExtractionPack = download_llama_pack(\n",
    "    \"AmazonProductExtractionPack\",\n",
    "    \"./amazon_product_extraction_pack\",\n",
    "    # leave the below commented out (was for testing purposes)\n",
    "    llama_hub_url=\"https://raw.githubusercontent.com/run-llama/llama-hub/jerry/add_amazon_product_extraction/llama_hub\"\n",
    ")"
   ]
  },
  {
   "cell_type": "code",
   "execution_count": null,
   "id": "a5999638-c065-4585-93c8-9673e4c5cca5",
   "metadata": {},
   "outputs": [],
   "source": []
  }
 ],
 "metadata": {
  "kernelspec": {
   "display_name": "llama_hub",
   "language": "python",
   "name": "llama_hub"
  },
  "language_info": {
   "codemirror_mode": {
    "name": "ipython",
    "version": 3
   },
   "file_extension": ".py",
   "mimetype": "text/x-python",
   "name": "python",
   "nbconvert_exporter": "python",
   "pygments_lexer": "ipython3",
   "version": "3.10.8"
  }
 },
 "nbformat": 4,
 "nbformat_minor": 5
}
