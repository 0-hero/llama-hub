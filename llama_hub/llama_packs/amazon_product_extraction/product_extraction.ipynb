{
 "cells": [
  {
   "cell_type": "markdown",
   "id": "8386da29-a09e-497e-a33d-77c4c5e02d70",
   "metadata": {},
   "source": [
    "# Amazon Product Extraction Pack\n",
    "\n",
    "This LlamaPack provides an example of our Amazon Product Extraction pack."
   ]
  },
  {
   "cell_type": "code",
   "execution_count": null,
   "id": "a5a2d9f1-bc7f-40b6-a91a-e28e0d27b176",
   "metadata": {},
   "outputs": [],
   "source": [
    "from llama_index.llama_pack import download_llama_pack\n",
    "\n",
    "AmazonProductExtractionPack = download_llama_pack(\n",
    "    \"AmazonProductExtractionPack\",\n",
    "    \"./amazon_product_extraction_pack\",\n",
    "    # leave the below commented out (was for testing purposes)\n",
    "    # llama_hub_url=\"https://raw.githubusercontent.com/run-llama/llama-hub/jerry/add_llama_packs/llama_hub\"\n",
    ")"
   ]
  }
 ],
 "metadata": {
  "kernelspec": {
   "display_name": "llama_hub",
   "language": "python",
   "name": "llama_hub"
  },
  "language_info": {
   "codemirror_mode": {
    "name": "ipython",
    "version": 3
   },
   "file_extension": ".py",
   "mimetype": "text/x-python",
   "name": "python",
   "nbconvert_exporter": "python",
   "pygments_lexer": "ipython3",
   "version": "3.10.8"
  }
 },
 "nbformat": 4,
 "nbformat_minor": 5
}
